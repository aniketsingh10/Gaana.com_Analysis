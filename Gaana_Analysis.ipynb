{
  "nbformat": 4,
  "nbformat_minor": 0,
  "metadata": {
    "colab": {
      "name": "Gaana_Analysis.ipynb",
      "provenance": [],
      "collapsed_sections": []
    },
    "kernelspec": {
      "name": "python3",
      "display_name": "Python 3"
    },
    "language_info": {
      "name": "python"
    }
  },
  "cells": [
    {
      "cell_type": "markdown",
      "source": [
        "### Data Analysis of Gaana.com"
      ],
      "metadata": {
        "id": "N6uYi1ufwZ-q"
      }
    },
    {
      "cell_type": "code",
      "execution_count": 2,
      "metadata": {
        "id": "a-zixrlROETJ"
      },
      "outputs": [],
      "source": [
        "# importing neccessary libraries\n",
        "import pandas as pd\n",
        "import numpy as np\n",
        "import matplotlib.pyplot as plt\n"
      ]
    },
    {
      "cell_type": "code",
      "source": [
        "# dowloading the dataset\n",
        "!git clone https://github.com/AshishJangra27/Gaana-Data-Analysis"
      ],
      "metadata": {
        "colab": {
          "base_uri": "https://localhost:8080/"
        },
        "id": "lMgAqCA2OXlZ",
        "outputId": "9073863c-2aaf-40d8-bb40-13746a5dbd93"
      },
      "execution_count": 3,
      "outputs": [
        {
          "output_type": "stream",
          "name": "stdout",
          "text": [
            "Cloning into 'Gaana-Data-Analysis'...\n",
            "remote: Enumerating objects: 26, done.\u001b[K\n",
            "remote: Counting objects: 100% (26/26), done.\u001b[K\n",
            "remote: Compressing objects: 100% (26/26), done.\u001b[K\n",
            "remote: Total 26 (delta 8), reused 0 (delta 0), pack-reused 0\u001b[K\n",
            "Unpacking objects: 100% (26/26), done.\n"
          ]
        }
      ]
    },
    {
      "cell_type": "code",
      "source": [
        "# dataframe\n",
        "df = pd.read_csv('Gaana-Data-Analysis/songs.csv')\n"
      ],
      "metadata": {
        "id": "6yYPAhZpOiRo"
      },
      "execution_count": 46,
      "outputs": []
    },
    {
      "cell_type": "code",
      "source": [
        "# header (1st five rows of dataset)\n",
        "df.head()\n"
      ],
      "metadata": {
        "colab": {
          "base_uri": "https://localhost:8080/",
          "height": 215
        },
        "id": "G4KDLs5DO_BJ",
        "outputId": "53079580-5253-45ec-aac3-383e0517c252"
      },
      "execution_count": 5,
      "outputs": [
        {
          "output_type": "execute_result",
          "data": {
            "text/plain": [
              "                                      name                     singer  \\\n",
              "0                    Dil - E - Nadan Tujhe  Chitra Singh|Jagjit Singh   \n",
              "1        Agar Hum Kahen Aur Woh Muskara De  Chitra Singh|Jagjit Singh   \n",
              "2                            Unke Dekhe Se               Jagjit Singh   \n",
              "3  Yeh Na Thi Hamari Qismat - Chitra Singh               Chitra Singh   \n",
              "4                  Hazaron Khwahishen Aisi               Jagjit Singh   \n",
              "\n",
              "                                      singer_id duration  \\\n",
              "0  /artist/chitra-singh|/artist/jagjeet-singh-1    05:00   \n",
              "1  /artist/chitra-singh|/artist/jagjeet-singh-1    06:26   \n",
              "2                       /artist/jagjeet-singh-1    03:41   \n",
              "3                          /artist/chitra-singh    04:26   \n",
              "4                       /artist/jagjeet-singh-1    05:39   \n",
              "\n",
              "                                  link language  \n",
              "0                 /dil-e-nadan-tujhe-3     Urdu  \n",
              "1  /agar-hum-kahen-aur-woh-muskura-den     Urdu  \n",
              "2                       /unke-dekhe-se     Urdu  \n",
              "3          /yeh-na-thi-hamari-qismat-2     Urdu  \n",
              "4           /hazaron-khwahishen-aisi-1     Urdu  "
            ],
            "text/html": [
              "\n",
              "  <div id=\"df-4458412d-5fe5-43dd-8f43-7a2c5067dc22\">\n",
              "    <div class=\"colab-df-container\">\n",
              "      <div>\n",
              "<style scoped>\n",
              "    .dataframe tbody tr th:only-of-type {\n",
              "        vertical-align: middle;\n",
              "    }\n",
              "\n",
              "    .dataframe tbody tr th {\n",
              "        vertical-align: top;\n",
              "    }\n",
              "\n",
              "    .dataframe thead th {\n",
              "        text-align: right;\n",
              "    }\n",
              "</style>\n",
              "<table border=\"1\" class=\"dataframe\">\n",
              "  <thead>\n",
              "    <tr style=\"text-align: right;\">\n",
              "      <th></th>\n",
              "      <th>name</th>\n",
              "      <th>singer</th>\n",
              "      <th>singer_id</th>\n",
              "      <th>duration</th>\n",
              "      <th>link</th>\n",
              "      <th>language</th>\n",
              "    </tr>\n",
              "  </thead>\n",
              "  <tbody>\n",
              "    <tr>\n",
              "      <th>0</th>\n",
              "      <td>Dil - E - Nadan Tujhe</td>\n",
              "      <td>Chitra Singh|Jagjit Singh</td>\n",
              "      <td>/artist/chitra-singh|/artist/jagjeet-singh-1</td>\n",
              "      <td>05:00</td>\n",
              "      <td>/dil-e-nadan-tujhe-3</td>\n",
              "      <td>Urdu</td>\n",
              "    </tr>\n",
              "    <tr>\n",
              "      <th>1</th>\n",
              "      <td>Agar Hum Kahen Aur Woh Muskara De</td>\n",
              "      <td>Chitra Singh|Jagjit Singh</td>\n",
              "      <td>/artist/chitra-singh|/artist/jagjeet-singh-1</td>\n",
              "      <td>06:26</td>\n",
              "      <td>/agar-hum-kahen-aur-woh-muskura-den</td>\n",
              "      <td>Urdu</td>\n",
              "    </tr>\n",
              "    <tr>\n",
              "      <th>2</th>\n",
              "      <td>Unke Dekhe Se</td>\n",
              "      <td>Jagjit Singh</td>\n",
              "      <td>/artist/jagjeet-singh-1</td>\n",
              "      <td>03:41</td>\n",
              "      <td>/unke-dekhe-se</td>\n",
              "      <td>Urdu</td>\n",
              "    </tr>\n",
              "    <tr>\n",
              "      <th>3</th>\n",
              "      <td>Yeh Na Thi Hamari Qismat - Chitra Singh</td>\n",
              "      <td>Chitra Singh</td>\n",
              "      <td>/artist/chitra-singh</td>\n",
              "      <td>04:26</td>\n",
              "      <td>/yeh-na-thi-hamari-qismat-2</td>\n",
              "      <td>Urdu</td>\n",
              "    </tr>\n",
              "    <tr>\n",
              "      <th>4</th>\n",
              "      <td>Hazaron Khwahishen Aisi</td>\n",
              "      <td>Jagjit Singh</td>\n",
              "      <td>/artist/jagjeet-singh-1</td>\n",
              "      <td>05:39</td>\n",
              "      <td>/hazaron-khwahishen-aisi-1</td>\n",
              "      <td>Urdu</td>\n",
              "    </tr>\n",
              "  </tbody>\n",
              "</table>\n",
              "</div>\n",
              "      <button class=\"colab-df-convert\" onclick=\"convertToInteractive('df-4458412d-5fe5-43dd-8f43-7a2c5067dc22')\"\n",
              "              title=\"Convert this dataframe to an interactive table.\"\n",
              "              style=\"display:none;\">\n",
              "        \n",
              "  <svg xmlns=\"http://www.w3.org/2000/svg\" height=\"24px\"viewBox=\"0 0 24 24\"\n",
              "       width=\"24px\">\n",
              "    <path d=\"M0 0h24v24H0V0z\" fill=\"none\"/>\n",
              "    <path d=\"M18.56 5.44l.94 2.06.94-2.06 2.06-.94-2.06-.94-.94-2.06-.94 2.06-2.06.94zm-11 1L8.5 8.5l.94-2.06 2.06-.94-2.06-.94L8.5 2.5l-.94 2.06-2.06.94zm10 10l.94 2.06.94-2.06 2.06-.94-2.06-.94-.94-2.06-.94 2.06-2.06.94z\"/><path d=\"M17.41 7.96l-1.37-1.37c-.4-.4-.92-.59-1.43-.59-.52 0-1.04.2-1.43.59L10.3 9.45l-7.72 7.72c-.78.78-.78 2.05 0 2.83L4 21.41c.39.39.9.59 1.41.59.51 0 1.02-.2 1.41-.59l7.78-7.78 2.81-2.81c.8-.78.8-2.07 0-2.86zM5.41 20L4 18.59l7.72-7.72 1.47 1.35L5.41 20z\"/>\n",
              "  </svg>\n",
              "      </button>\n",
              "      \n",
              "  <style>\n",
              "    .colab-df-container {\n",
              "      display:flex;\n",
              "      flex-wrap:wrap;\n",
              "      gap: 12px;\n",
              "    }\n",
              "\n",
              "    .colab-df-convert {\n",
              "      background-color: #E8F0FE;\n",
              "      border: none;\n",
              "      border-radius: 50%;\n",
              "      cursor: pointer;\n",
              "      display: none;\n",
              "      fill: #1967D2;\n",
              "      height: 32px;\n",
              "      padding: 0 0 0 0;\n",
              "      width: 32px;\n",
              "    }\n",
              "\n",
              "    .colab-df-convert:hover {\n",
              "      background-color: #E2EBFA;\n",
              "      box-shadow: 0px 1px 2px rgba(60, 64, 67, 0.3), 0px 1px 3px 1px rgba(60, 64, 67, 0.15);\n",
              "      fill: #174EA6;\n",
              "    }\n",
              "\n",
              "    [theme=dark] .colab-df-convert {\n",
              "      background-color: #3B4455;\n",
              "      fill: #D2E3FC;\n",
              "    }\n",
              "\n",
              "    [theme=dark] .colab-df-convert:hover {\n",
              "      background-color: #434B5C;\n",
              "      box-shadow: 0px 1px 3px 1px rgba(0, 0, 0, 0.15);\n",
              "      filter: drop-shadow(0px 1px 2px rgba(0, 0, 0, 0.3));\n",
              "      fill: #FFFFFF;\n",
              "    }\n",
              "  </style>\n",
              "\n",
              "      <script>\n",
              "        const buttonEl =\n",
              "          document.querySelector('#df-4458412d-5fe5-43dd-8f43-7a2c5067dc22 button.colab-df-convert');\n",
              "        buttonEl.style.display =\n",
              "          google.colab.kernel.accessAllowed ? 'block' : 'none';\n",
              "\n",
              "        async function convertToInteractive(key) {\n",
              "          const element = document.querySelector('#df-4458412d-5fe5-43dd-8f43-7a2c5067dc22');\n",
              "          const dataTable =\n",
              "            await google.colab.kernel.invokeFunction('convertToInteractive',\n",
              "                                                     [key], {});\n",
              "          if (!dataTable) return;\n",
              "\n",
              "          const docLinkHtml = 'Like what you see? Visit the ' +\n",
              "            '<a target=\"_blank\" href=https://colab.research.google.com/notebooks/data_table.ipynb>data table notebook</a>'\n",
              "            + ' to learn more about interactive tables.';\n",
              "          element.innerHTML = '';\n",
              "          dataTable['output_type'] = 'display_data';\n",
              "          await google.colab.output.renderOutput(dataTable, element);\n",
              "          const docLink = document.createElement('div');\n",
              "          docLink.innerHTML = docLinkHtml;\n",
              "          element.appendChild(docLink);\n",
              "        }\n",
              "      </script>\n",
              "    </div>\n",
              "  </div>\n",
              "  "
            ]
          },
          "metadata": {},
          "execution_count": 5
        }
      ]
    },
    {
      "cell_type": "markdown",
      "source": [
        "### 1. Checking the NULL values\n",
        "\n",
        "\n"
      ],
      "metadata": {
        "id": "pTrxaIicPzXi"
      }
    },
    {
      "cell_type": "code",
      "source": [
        "# sum of the all null values\n",
        "df.isnull().sum()"
      ],
      "metadata": {
        "colab": {
          "base_uri": "https://localhost:8080/"
        },
        "id": "jd3YVPuGP85y",
        "outputId": "35761ccf-cde4-4093-86b5-9991d14abba7"
      },
      "execution_count": 6,
      "outputs": [
        {
          "output_type": "execute_result",
          "data": {
            "text/plain": [
              "name         0\n",
              "singer       0\n",
              "singer_id    0\n",
              "duration     0\n",
              "link         0\n",
              "language     0\n",
              "dtype: int64"
            ]
          },
          "metadata": {},
          "execution_count": 6
        }
      ]
    },
    {
      "cell_type": "markdown",
      "source": [
        "### 2. Data Preprocessing"
      ],
      "metadata": {
        "id": "yucXciVvQrs3"
      }
    },
    {
      "cell_type": "code",
      "source": [
        "# duration of first 10 songs\n",
        "for duration in df['duration'][:10]:\n",
        "  print (duration)"
      ],
      "metadata": {
        "colab": {
          "base_uri": "https://localhost:8080/"
        },
        "id": "USfZt2GeqRFa",
        "outputId": "938d9987-57a1-4fed-8fd7-c937498349c0"
      },
      "execution_count": 7,
      "outputs": [
        {
          "output_type": "stream",
          "name": "stdout",
          "text": [
            "05:00\n",
            "06:26\n",
            "03:41\n",
            "04:26\n",
            "05:39\n",
            "07:59\n",
            "04:48\n",
            "05:21\n",
            "03:09\n",
            "04:24\n"
          ]
        }
      ]
    },
    {
      "cell_type": "code",
      "source": [
        "# minute and second spliting\n",
        "for duration in df['duration'][:10]:\n",
        "  print (duration.split(':'))"
      ],
      "metadata": {
        "colab": {
          "base_uri": "https://localhost:8080/"
        },
        "id": "6CqAYeJbqzho",
        "outputId": "b2d2a799-7561-4adc-f263-d005a8c1a97e"
      },
      "execution_count": 16,
      "outputs": [
        {
          "output_type": "stream",
          "name": "stdout",
          "text": [
            "['05', '00']\n",
            "['06', '26']\n",
            "['03', '41']\n",
            "['04', '26']\n",
            "['05', '39']\n",
            "['07', '59']\n",
            "['04', '48']\n",
            "['05', '21']\n",
            "['03', '09']\n",
            "['04', '24']\n"
          ]
        }
      ]
    },
    {
      "cell_type": "code",
      "source": [
        "# typecasting the string values of time into string\n",
        "for duration in df['duration'][:10]:\n",
        "\n",
        "  print('Min',int(duration.split(':')[0]))\n",
        "  print('Sec',int(duration.split(':')[1]))\n"
      ],
      "metadata": {
        "colab": {
          "base_uri": "https://localhost:8080/"
        },
        "id": "APZ2nOmMryRf",
        "outputId": "5082c83e-d892-4bb0-f4ab-fd793dc59b7f"
      },
      "execution_count": 17,
      "outputs": [
        {
          "output_type": "stream",
          "name": "stdout",
          "text": [
            "Min 5\n",
            "Sec 0\n",
            "Min 6\n",
            "Sec 26\n",
            "Min 3\n",
            "Sec 41\n",
            "Min 4\n",
            "Sec 26\n",
            "Min 5\n",
            "Sec 39\n",
            "Min 7\n",
            "Sec 59\n",
            "Min 4\n",
            "Sec 48\n",
            "Min 5\n",
            "Sec 21\n",
            "Min 3\n",
            "Sec 9\n",
            "Min 4\n",
            "Sec 24\n"
          ]
        }
      ]
    },
    {
      "cell_type": "code",
      "source": [
        "# converting the whole time in form of seconds\n",
        "for duration in df['duration'][:10]:\n",
        "\n",
        "  m=int(duration.split(':')[0])\n",
        "  s=int(duration.split(':')[1])\n",
        "  sec=(m*60)+s\n",
        "\n",
        "  print(m,s,sec)"
      ],
      "metadata": {
        "colab": {
          "base_uri": "https://localhost:8080/"
        },
        "id": "rC5oPEq0tKM2",
        "outputId": "62011f50-7f48-4b57-a69b-acec0bfe5a71"
      },
      "execution_count": 19,
      "outputs": [
        {
          "output_type": "stream",
          "name": "stdout",
          "text": [
            "5 0 300\n",
            "6 26 386\n",
            "3 41 221\n",
            "4 26 266\n",
            "5 39 339\n",
            "7 59 479\n",
            "4 48 288\n",
            "5 21 321\n",
            "3 9 189\n",
            "4 24 264\n"
          ]
        }
      ]
    },
    {
      "cell_type": "code",
      "source": [
        "# applying the change for whole dataset\n",
        "duration1=[]\n",
        "for duration in df['duration']:\n",
        "\n",
        "  m=int(duration.split(':')[0])\n",
        "  s=int(duration.split(':')[1])\n",
        "  sec=(m*60)+s\n",
        "  duration1.append(sec)\n",
        "\n",
        "df['duration']=duration1\n",
        "  #print(m,s,sec)"
      ],
      "metadata": {
        "id": "Ev8OQLgauZon"
      },
      "execution_count": 26,
      "outputs": []
    },
    {
      "cell_type": "code",
      "source": [
        "# checking if the duration values are in second or not\n",
        "print(len(duration1))\n",
        "print(len(df))\n",
        "df.head()"
      ],
      "metadata": {
        "colab": {
          "base_uri": "https://localhost:8080/",
          "height": 250
        },
        "id": "hc9ql5VPvPO1",
        "outputId": "d80541d7-a3ce-4e4c-fd2a-e5eda6131e8c"
      },
      "execution_count": 27,
      "outputs": [
        {
          "output_type": "stream",
          "name": "stdout",
          "text": [
            "41355\n",
            "41355\n"
          ]
        },
        {
          "output_type": "execute_result",
          "data": {
            "text/plain": [
              "                                      name                     singer  \\\n",
              "0                    Dil - E - Nadan Tujhe  Chitra Singh|Jagjit Singh   \n",
              "1        Agar Hum Kahen Aur Woh Muskara De  Chitra Singh|Jagjit Singh   \n",
              "2                            Unke Dekhe Se               Jagjit Singh   \n",
              "3  Yeh Na Thi Hamari Qismat - Chitra Singh               Chitra Singh   \n",
              "4                  Hazaron Khwahishen Aisi               Jagjit Singh   \n",
              "\n",
              "                                      singer_id  duration  \\\n",
              "0  /artist/chitra-singh|/artist/jagjeet-singh-1       300   \n",
              "1  /artist/chitra-singh|/artist/jagjeet-singh-1       386   \n",
              "2                       /artist/jagjeet-singh-1       221   \n",
              "3                          /artist/chitra-singh       266   \n",
              "4                       /artist/jagjeet-singh-1       339   \n",
              "\n",
              "                                  link language  03:22  \n",
              "0                 /dil-e-nadan-tujhe-3     Urdu    300  \n",
              "1  /agar-hum-kahen-aur-woh-muskura-den     Urdu    386  \n",
              "2                       /unke-dekhe-se     Urdu    221  \n",
              "3          /yeh-na-thi-hamari-qismat-2     Urdu    266  \n",
              "4           /hazaron-khwahishen-aisi-1     Urdu    339  "
            ],
            "text/html": [
              "\n",
              "  <div id=\"df-306a7c94-7328-4f97-a1ec-041cb9b8ece3\">\n",
              "    <div class=\"colab-df-container\">\n",
              "      <div>\n",
              "<style scoped>\n",
              "    .dataframe tbody tr th:only-of-type {\n",
              "        vertical-align: middle;\n",
              "    }\n",
              "\n",
              "    .dataframe tbody tr th {\n",
              "        vertical-align: top;\n",
              "    }\n",
              "\n",
              "    .dataframe thead th {\n",
              "        text-align: right;\n",
              "    }\n",
              "</style>\n",
              "<table border=\"1\" class=\"dataframe\">\n",
              "  <thead>\n",
              "    <tr style=\"text-align: right;\">\n",
              "      <th></th>\n",
              "      <th>name</th>\n",
              "      <th>singer</th>\n",
              "      <th>singer_id</th>\n",
              "      <th>duration</th>\n",
              "      <th>link</th>\n",
              "      <th>language</th>\n",
              "      <th>03:22</th>\n",
              "    </tr>\n",
              "  </thead>\n",
              "  <tbody>\n",
              "    <tr>\n",
              "      <th>0</th>\n",
              "      <td>Dil - E - Nadan Tujhe</td>\n",
              "      <td>Chitra Singh|Jagjit Singh</td>\n",
              "      <td>/artist/chitra-singh|/artist/jagjeet-singh-1</td>\n",
              "      <td>300</td>\n",
              "      <td>/dil-e-nadan-tujhe-3</td>\n",
              "      <td>Urdu</td>\n",
              "      <td>300</td>\n",
              "    </tr>\n",
              "    <tr>\n",
              "      <th>1</th>\n",
              "      <td>Agar Hum Kahen Aur Woh Muskara De</td>\n",
              "      <td>Chitra Singh|Jagjit Singh</td>\n",
              "      <td>/artist/chitra-singh|/artist/jagjeet-singh-1</td>\n",
              "      <td>386</td>\n",
              "      <td>/agar-hum-kahen-aur-woh-muskura-den</td>\n",
              "      <td>Urdu</td>\n",
              "      <td>386</td>\n",
              "    </tr>\n",
              "    <tr>\n",
              "      <th>2</th>\n",
              "      <td>Unke Dekhe Se</td>\n",
              "      <td>Jagjit Singh</td>\n",
              "      <td>/artist/jagjeet-singh-1</td>\n",
              "      <td>221</td>\n",
              "      <td>/unke-dekhe-se</td>\n",
              "      <td>Urdu</td>\n",
              "      <td>221</td>\n",
              "    </tr>\n",
              "    <tr>\n",
              "      <th>3</th>\n",
              "      <td>Yeh Na Thi Hamari Qismat - Chitra Singh</td>\n",
              "      <td>Chitra Singh</td>\n",
              "      <td>/artist/chitra-singh</td>\n",
              "      <td>266</td>\n",
              "      <td>/yeh-na-thi-hamari-qismat-2</td>\n",
              "      <td>Urdu</td>\n",
              "      <td>266</td>\n",
              "    </tr>\n",
              "    <tr>\n",
              "      <th>4</th>\n",
              "      <td>Hazaron Khwahishen Aisi</td>\n",
              "      <td>Jagjit Singh</td>\n",
              "      <td>/artist/jagjeet-singh-1</td>\n",
              "      <td>339</td>\n",
              "      <td>/hazaron-khwahishen-aisi-1</td>\n",
              "      <td>Urdu</td>\n",
              "      <td>339</td>\n",
              "    </tr>\n",
              "  </tbody>\n",
              "</table>\n",
              "</div>\n",
              "      <button class=\"colab-df-convert\" onclick=\"convertToInteractive('df-306a7c94-7328-4f97-a1ec-041cb9b8ece3')\"\n",
              "              title=\"Convert this dataframe to an interactive table.\"\n",
              "              style=\"display:none;\">\n",
              "        \n",
              "  <svg xmlns=\"http://www.w3.org/2000/svg\" height=\"24px\"viewBox=\"0 0 24 24\"\n",
              "       width=\"24px\">\n",
              "    <path d=\"M0 0h24v24H0V0z\" fill=\"none\"/>\n",
              "    <path d=\"M18.56 5.44l.94 2.06.94-2.06 2.06-.94-2.06-.94-.94-2.06-.94 2.06-2.06.94zm-11 1L8.5 8.5l.94-2.06 2.06-.94-2.06-.94L8.5 2.5l-.94 2.06-2.06.94zm10 10l.94 2.06.94-2.06 2.06-.94-2.06-.94-.94-2.06-.94 2.06-2.06.94z\"/><path d=\"M17.41 7.96l-1.37-1.37c-.4-.4-.92-.59-1.43-.59-.52 0-1.04.2-1.43.59L10.3 9.45l-7.72 7.72c-.78.78-.78 2.05 0 2.83L4 21.41c.39.39.9.59 1.41.59.51 0 1.02-.2 1.41-.59l7.78-7.78 2.81-2.81c.8-.78.8-2.07 0-2.86zM5.41 20L4 18.59l7.72-7.72 1.47 1.35L5.41 20z\"/>\n",
              "  </svg>\n",
              "      </button>\n",
              "      \n",
              "  <style>\n",
              "    .colab-df-container {\n",
              "      display:flex;\n",
              "      flex-wrap:wrap;\n",
              "      gap: 12px;\n",
              "    }\n",
              "\n",
              "    .colab-df-convert {\n",
              "      background-color: #E8F0FE;\n",
              "      border: none;\n",
              "      border-radius: 50%;\n",
              "      cursor: pointer;\n",
              "      display: none;\n",
              "      fill: #1967D2;\n",
              "      height: 32px;\n",
              "      padding: 0 0 0 0;\n",
              "      width: 32px;\n",
              "    }\n",
              "\n",
              "    .colab-df-convert:hover {\n",
              "      background-color: #E2EBFA;\n",
              "      box-shadow: 0px 1px 2px rgba(60, 64, 67, 0.3), 0px 1px 3px 1px rgba(60, 64, 67, 0.15);\n",
              "      fill: #174EA6;\n",
              "    }\n",
              "\n",
              "    [theme=dark] .colab-df-convert {\n",
              "      background-color: #3B4455;\n",
              "      fill: #D2E3FC;\n",
              "    }\n",
              "\n",
              "    [theme=dark] .colab-df-convert:hover {\n",
              "      background-color: #434B5C;\n",
              "      box-shadow: 0px 1px 3px 1px rgba(0, 0, 0, 0.15);\n",
              "      filter: drop-shadow(0px 1px 2px rgba(0, 0, 0, 0.3));\n",
              "      fill: #FFFFFF;\n",
              "    }\n",
              "  </style>\n",
              "\n",
              "      <script>\n",
              "        const buttonEl =\n",
              "          document.querySelector('#df-306a7c94-7328-4f97-a1ec-041cb9b8ece3 button.colab-df-convert');\n",
              "        buttonEl.style.display =\n",
              "          google.colab.kernel.accessAllowed ? 'block' : 'none';\n",
              "\n",
              "        async function convertToInteractive(key) {\n",
              "          const element = document.querySelector('#df-306a7c94-7328-4f97-a1ec-041cb9b8ece3');\n",
              "          const dataTable =\n",
              "            await google.colab.kernel.invokeFunction('convertToInteractive',\n",
              "                                                     [key], {});\n",
              "          if (!dataTable) return;\n",
              "\n",
              "          const docLinkHtml = 'Like what you see? Visit the ' +\n",
              "            '<a target=\"_blank\" href=https://colab.research.google.com/notebooks/data_table.ipynb>data table notebook</a>'\n",
              "            + ' to learn more about interactive tables.';\n",
              "          element.innerHTML = '';\n",
              "          dataTable['output_type'] = 'display_data';\n",
              "          await google.colab.output.renderOutput(dataTable, element);\n",
              "          const docLink = document.createElement('div');\n",
              "          docLink.innerHTML = docLinkHtml;\n",
              "          element.appendChild(docLink);\n",
              "        }\n",
              "      </script>\n",
              "    </div>\n",
              "  </div>\n",
              "  "
            ]
          },
          "metadata": {},
          "execution_count": 27
        }
      ]
    },
    {
      "cell_type": "markdown",
      "source": [
        "### 3. Data Analysis"
      ],
      "metadata": {
        "id": "oeqM1bW2wLhV"
      }
    },
    {
      "cell_type": "markdown",
      "source": [
        "##### 3.1 Average duration of songs throughout dataset ?\n",
        "\n",
        "---\n",
        "\n"
      ],
      "metadata": {
        "id": "_hvHYMYXwtHC"
      }
    },
    {
      "cell_type": "code",
      "source": [
        "# average duration of songs i.e sum of total time / length of dataset\n",
        "print(\"Average duration of songs :-\",int(df['duration'].sum() / len(df)),\"seconds\")"
      ],
      "metadata": {
        "colab": {
          "base_uri": "https://localhost:8080/"
        },
        "id": "qfFW5Q-uw0LH",
        "outputId": "5769a5e7-ae51-491d-9fcc-b34d9c6446c2"
      },
      "execution_count": 34,
      "outputs": [
        {
          "output_type": "stream",
          "name": "stdout",
          "text": [
            "Average duration of songs :- 295 seconds\n"
          ]
        }
      ]
    },
    {
      "cell_type": "markdown",
      "source": [
        "##### 3.2   How many languages of songs are present in dataset ?"
      ],
      "metadata": {
        "id": "EVdt_dhtyf1H"
      }
    },
    {
      "cell_type": "code",
      "source": [
        "# set of all unique language song\n",
        "print(set(df['language']))\n",
        "\n",
        "# total count  of unique songs\n",
        "len(set(df['language']))"
      ],
      "metadata": {
        "colab": {
          "base_uri": "https://localhost:8080/"
        },
        "id": "BsLKOoAWyBcS",
        "outputId": "71770af9-3a66-4914-9405-f57f786ee1b3"
      },
      "execution_count": 37,
      "outputs": [
        {
          "output_type": "stream",
          "name": "stdout",
          "text": [
            "{'Marathi', 'Kannada', 'Punjabi', 'Malayalam', 'Urdu', 'Gujarati', 'Rajasthani', 'Tamil', 'Haryanvi', 'Bhojpuri', 'Bengali', 'Odia', 'Old', 'Telugu', 'Hindi', 'Assamese'}\n"
          ]
        },
        {
          "output_type": "execute_result",
          "data": {
            "text/plain": [
              "16"
            ]
          },
          "metadata": {},
          "execution_count": 37
        }
      ]
    },
    {
      "cell_type": "markdown",
      "source": [
        "##### 3.3 How many Hindi Songs are there ?"
      ],
      "metadata": {
        "id": "_S2ehm8h0dpg"
      }
    },
    {
      "cell_type": "code",
      "source": [
        "# traversing through whole language column and counting Hindi songs\n",
        "count=0\n",
        "for i in df['language']:\n",
        "  if(i==\"Hindi\"):\n",
        "    count+=1\n",
        "\n",
        "print(\"Total count of Hindi songs is :-\",count)"
      ],
      "metadata": {
        "colab": {
          "base_uri": "https://localhost:8080/"
        },
        "id": "Esp8kDOL0oWx",
        "outputId": "2cb3a61c-9d95-413f-e00b-10176bdeafa0"
      },
      "execution_count": 41,
      "outputs": [
        {
          "output_type": "stream",
          "name": "stdout",
          "text": [
            "Total count of Hindi songs is :- 4993\n"
          ]
        }
      ]
    },
    {
      "cell_type": "markdown",
      "source": [
        "##### 3.4 Number of songs in each language ?"
      ],
      "metadata": {
        "id": "s41CZQN52MhN"
      }
    },
    {
      "cell_type": "code",
      "source": [
        "# for unique languages\n",
        "for lang in df['language'].unique():\n",
        "  count=0\n",
        "  # count for each unique languages \n",
        "  for i in df['language']:\n",
        "    if(i==lang):\n",
        "      count+=1\n",
        "\n",
        "  print(lang,\":-\",count)\n"
      ],
      "metadata": {
        "colab": {
          "base_uri": "https://localhost:8080/"
        },
        "id": "gOvDCzA72U0V",
        "outputId": "e1ce954f-3e59-4b6e-a88a-b7e96d97dc14"
      },
      "execution_count": 43,
      "outputs": [
        {
          "output_type": "stream",
          "name": "stdout",
          "text": [
            "Urdu :- 3116\n",
            "Gujarati :- 2115\n",
            "Tamil :- 4677\n",
            "Kannada :- 3559\n",
            "Rajasthani :- 541\n",
            "Haryanvi :- 228\n",
            "Punjabi :- 3818\n",
            "Hindi :- 4993\n",
            "Old :- 4993\n",
            "Malayalam :- 479\n",
            "Marathi :- 4699\n",
            "Telugu :- 4996\n",
            "Odia :- 940\n",
            "Bhojpuri :- 519\n",
            "Assamese :- 724\n",
            "Bengali :- 958\n"
          ]
        }
      ]
    },
    {
      "cell_type": "markdown",
      "source": [
        "##### 3.5 Average duration of songs in each language ?"
      ],
      "metadata": {
        "id": "njxsDrE993y1"
      }
    },
    {
      "cell_type": "code",
      "source": [
        "# for unique languages\n",
        "for lang in df['language'].unique():\n",
        "  #printing the mean time in seconds\n",
        "  print(lang,\":-\",int(df[df['language']==lang]['duration'].mean()))"
      ],
      "metadata": {
        "colab": {
          "base_uri": "https://localhost:8080/"
        },
        "id": "xBg2rJOo4KXN",
        "outputId": "1342fec4-419a-40b4-8055-ed76a9e3c971"
      },
      "execution_count": 45,
      "outputs": [
        {
          "output_type": "stream",
          "name": "stdout",
          "text": [
            "Urdu :- 407\n",
            "Gujarati :- 271\n",
            "Tamil :- 270\n",
            "Kannada :- 250\n",
            "Rajasthani :- 291\n",
            "Haryanvi :- 320\n",
            "Punjabi :- 324\n",
            "Hindi :- 307\n",
            "Old :- 307\n",
            "Malayalam :- 242\n",
            "Marathi :- 281\n",
            "Telugu :- 279\n",
            "Odia :- 257\n",
            "Bhojpuri :- 357\n",
            "Assamese :- 228\n",
            "Bengali :- 255\n"
          ]
        }
      ]
    }
  ]
}